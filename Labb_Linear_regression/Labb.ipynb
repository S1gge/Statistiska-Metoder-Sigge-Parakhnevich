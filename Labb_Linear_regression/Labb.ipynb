{
 "cells": [
  {
   "cell_type": "code",
   "execution_count": 116,
   "metadata": {},
   "outputs": [
    {
     "data": {
      "text/html": [
       "<div>\n",
       "<style scoped>\n",
       "    .dataframe tbody tr th:only-of-type {\n",
       "        vertical-align: middle;\n",
       "    }\n",
       "\n",
       "    .dataframe tbody tr th {\n",
       "        vertical-align: top;\n",
       "    }\n",
       "\n",
       "    .dataframe thead th {\n",
       "        text-align: right;\n",
       "    }\n",
       "</style>\n",
       "<table border=\"1\" class=\"dataframe\">\n",
       "  <thead>\n",
       "    <tr style=\"text-align: right;\">\n",
       "      <th></th>\n",
       "      <th>Flow</th>\n",
       "      <th>Kinematic</th>\n",
       "      <th>Geometric</th>\n",
       "      <th>Inertial</th>\n",
       "      <th>Observer</th>\n",
       "    </tr>\n",
       "  </thead>\n",
       "  <tbody>\n",
       "    <tr>\n",
       "      <th>0</th>\n",
       "      <td>-17.047687</td>\n",
       "      <td>-0.584344</td>\n",
       "      <td>-6.896327</td>\n",
       "      <td>-14.323560</td>\n",
       "      <td>0.0</td>\n",
       "    </tr>\n",
       "    <tr>\n",
       "      <th>1</th>\n",
       "      <td>-17.043179</td>\n",
       "      <td>-0.584344</td>\n",
       "      <td>-6.896327</td>\n",
       "      <td>-14.323560</td>\n",
       "      <td>0.0</td>\n",
       "    </tr>\n",
       "    <tr>\n",
       "      <th>2</th>\n",
       "      <td>-17.043179</td>\n",
       "      <td>-0.584344</td>\n",
       "      <td>-6.896327</td>\n",
       "      <td>-14.323560</td>\n",
       "      <td>0.0</td>\n",
       "    </tr>\n",
       "    <tr>\n",
       "      <th>3</th>\n",
       "      <td>-11.182193</td>\n",
       "      <td>1.242506</td>\n",
       "      <td>-5.069476</td>\n",
       "      <td>-11.583284</td>\n",
       "      <td>0.0</td>\n",
       "    </tr>\n",
       "    <tr>\n",
       "      <th>4</th>\n",
       "      <td>-11.184430</td>\n",
       "      <td>1.242506</td>\n",
       "      <td>-5.069476</td>\n",
       "      <td>-11.583284</td>\n",
       "      <td>0.0</td>\n",
       "    </tr>\n",
       "  </tbody>\n",
       "</table>\n",
       "</div>"
      ],
      "text/plain": [
       "        Flow  Kinematic  Geometric   Inertial  Observer\n",
       "0 -17.047687  -0.584344  -6.896327 -14.323560       0.0\n",
       "1 -17.043179  -0.584344  -6.896327 -14.323560       0.0\n",
       "2 -17.043179  -0.584344  -6.896327 -14.323560       0.0\n",
       "3 -11.182193   1.242506  -5.069476 -11.583284       0.0\n",
       "4 -11.184430   1.242506  -5.069476 -11.583284       0.0"
      ]
     },
     "execution_count": 116,
     "metadata": {},
     "output_type": "execute_result"
    }
   ],
   "source": [
    "import pandas as pd\n",
    "\n",
    "data_path = \"../Labb_Linear_regression/\"\n",
    "\n",
    "data = pd.read_csv(data_path+\"Small-diameter-flow.csv\", index_col=0)\n",
    "data.head()"
   ]
  },
  {
   "cell_type": "code",
   "execution_count": 117,
   "metadata": {},
   "outputs": [
    {
     "data": {
      "text/plain": [
       "array([[  1.        ,  -0.58434432,  -6.89632658, -14.32356028],\n",
       "       [  1.        ,  -0.58434432,  -6.89632658, -14.32356028],\n",
       "       [  1.        ,  -0.58434432,  -6.89632658, -14.32356028],\n",
       "       [  1.        ,   1.24250647,  -5.06947579, -11.5832841 ],\n",
       "       [  1.        ,   1.24250647,  -5.06947579, -11.5832841 ],\n",
       "       [  1.        ,   1.24250647,  -5.06947579, -11.5832841 ],\n",
       "       [  1.        ,   1.24250647,  -5.06947579, -11.5832841 ],\n",
       "       [  1.        ,   1.24250647,  -5.06947579, -11.5832841 ],\n",
       "       [  1.        ,   1.24250647,  -5.06947579, -11.5832841 ],\n",
       "       [  1.        ,  -0.58434432,  -6.45368247, -14.32356028],\n",
       "       [  1.        ,  -0.58434432,  -6.45368247, -14.32356028],\n",
       "       [  1.        ,  -0.58434432,  -6.45368247, -14.32356028],\n",
       "       [  1.        ,   0.66268797,  -5.20665018, -12.45301184],\n",
       "       [  1.        ,   0.66268797,  -5.20665018, -12.45301184],\n",
       "       [  1.        ,   0.66268797,  -5.20665018, -12.45301184],\n",
       "       [  1.        ,   0.60976557,  -5.20665018, -12.45301184],\n",
       "       [  1.        ,   0.60976557,  -5.20665018, -12.45301184],\n",
       "       [  1.        ,   0.60976557,  -5.20665018, -12.45301184],\n",
       "       [  1.        ,   0.55388511,  -5.20665018, -12.45301184],\n",
       "       [  1.        ,   0.55388511,  -5.20665018, -12.45301184],\n",
       "       [  1.        ,   0.55388511,  -5.20665018, -12.45301184],\n",
       "       [  1.        ,   0.49469624,  -5.20665018, -12.45301184],\n",
       "       [  1.        ,   0.49469624,  -5.20665018, -12.45301184],\n",
       "       [  1.        ,   0.49469624,  -5.20665018, -12.45301184],\n",
       "       [  1.        ,   0.43178242,  -5.20665018, -12.45301184],\n",
       "       [  1.        ,   0.43178242,  -5.20665018, -12.45301184],\n",
       "       [  1.        ,   0.43178242,  -5.20665018, -12.45301184],\n",
       "       [  1.        ,   0.36464311,  -5.20665018, -12.45301184],\n",
       "       [  1.        ,   0.36464311,  -5.20665018, -12.45301184],\n",
       "       [  1.        ,   0.36464311,  -5.20665018, -12.45301184],\n",
       "       [  1.        ,   0.29266961,  -5.20665018, -12.45301184],\n",
       "       [  1.        ,   0.29266961,  -5.20665018, -12.45301184],\n",
       "       [  1.        ,   0.29266961,  -5.20665018, -12.45301184],\n",
       "       [  1.        ,   0.66268797,  -5.20665018, -12.45301184],\n",
       "       [  1.        ,   0.66268797,  -5.20665018, -12.45301184],\n",
       "       [  1.        ,   0.66268797,  -5.20665018, -12.45301184],\n",
       "       [  1.        ,   0.60976557,  -5.20665018, -12.45301184],\n",
       "       [  1.        ,   0.60976557,  -5.20665018, -12.45301184],\n",
       "       [  1.        ,   0.60976557,  -5.20665018, -12.45301184],\n",
       "       [  1.        ,   0.55388511,  -5.20665018, -12.45301184],\n",
       "       [  1.        ,   0.55388511,  -5.20665018, -12.45301184],\n",
       "       [  1.        ,   0.55388511,  -5.20665018, -12.45301184],\n",
       "       [  1.        ,   0.49469624,  -5.20665018, -12.45301184],\n",
       "       [  1.        ,   0.49469624,  -5.20665018, -12.45301184],\n",
       "       [  1.        ,   0.49469624,  -5.20665018, -12.45301184],\n",
       "       [  1.        ,   0.43178242,  -5.20665018, -12.45301184],\n",
       "       [  1.        ,   0.43178242,  -5.20665018, -12.45301184],\n",
       "       [  1.        ,   0.43178242,  -5.20665018, -12.45301184],\n",
       "       [  1.        ,   0.36464311,  -5.20665018, -12.45301184],\n",
       "       [  1.        ,   0.36464311,  -5.20665018, -12.45301184],\n",
       "       [  1.        ,   0.36464311,  -5.20665018, -12.45301184],\n",
       "       [  1.        ,   0.29266961,  -5.20665018, -12.45301184],\n",
       "       [  1.        ,   0.29266961,  -5.20665018, -12.45301184],\n",
       "       [  1.        ,   0.29266961,  -5.20665018, -12.45301184],\n",
       "       [  1.        ,  -0.590075  ,  -6.34244147, -14.33215629],\n",
       "       [  1.        ,  -0.590075  ,  -6.34244147, -14.33215629],\n",
       "       [  1.        ,  -0.590075  ,  -6.34244147, -14.33215629],\n",
       "       [  1.        ,  -0.6429974 ,  -6.34244147, -14.33215629],\n",
       "       [  1.        ,  -0.6429974 ,  -6.34244147, -14.33215629],\n",
       "       [  1.        ,  -0.6429974 ,  -6.34244147, -14.33215629],\n",
       "       [  1.        ,   0.54935929,  -5.20300719, -12.62300487],\n",
       "       [  1.        ,   0.54935929,  -5.20300719, -12.62300487],\n",
       "       [  1.        ,   0.54935929,  -5.20300719, -12.62300487],\n",
       "       [  1.        ,   0.49643689,  -5.20300719, -12.62300487],\n",
       "       [  1.        ,   0.49643689,  -5.20300719, -12.62300487],\n",
       "       [  1.        ,   0.49643689,  -5.20300719, -12.62300487],\n",
       "       [  1.        ,   0.44055643,  -5.20300719, -12.62300487],\n",
       "       [  1.        ,   0.44055643,  -5.20300719, -12.62300487],\n",
       "       [  1.        ,   0.44055643,  -5.20300719, -12.62300487],\n",
       "       [  1.        ,   0.38136756,  -5.20300719, -12.62300487],\n",
       "       [  1.        ,   0.38136756,  -5.20300719, -12.62300487],\n",
       "       [  1.        ,   0.38136756,  -5.20300719, -12.62300487],\n",
       "       [  1.        ,   0.31845373,  -5.20300719, -12.62300487],\n",
       "       [  1.        ,   0.31845373,  -5.20300719, -12.62300487],\n",
       "       [  1.        ,   0.31845373,  -5.20300719, -12.62300487],\n",
       "       [  1.        ,   0.25131443,  -5.20300719, -12.62300487],\n",
       "       [  1.        ,   0.25131443,  -5.20300719, -12.62300487],\n",
       "       [  1.        ,   0.25131443,  -5.20300719, -12.62300487],\n",
       "       [  1.        ,   0.17934093,  -5.20300719, -12.62300487],\n",
       "       [  1.        ,   0.17934093,  -5.20300719, -12.62300487],\n",
       "       [  1.        ,   0.17934093,  -5.20300719, -12.62300487],\n",
       "       [  1.        ,   0.54935929,  -5.20300719, -12.62300487],\n",
       "       [  1.        ,   0.54935929,  -5.20300719, -12.62300487],\n",
       "       [  1.        ,   0.54935929,  -5.20300719, -12.62300487],\n",
       "       [  1.        ,   0.44055643,  -5.20300719, -12.62300487],\n",
       "       [  1.        ,   0.44055643,  -5.20300719, -12.62300487],\n",
       "       [  1.        ,   0.44055643,  -5.20300719, -12.62300487],\n",
       "       [  1.        ,   0.38136756,  -5.20300719, -12.62300487],\n",
       "       [  1.        ,   0.38136756,  -5.20300719, -12.62300487],\n",
       "       [  1.        ,   0.38136756,  -5.20300719, -12.62300487],\n",
       "       [  1.        ,   0.31845373,  -5.20300719, -12.62300487],\n",
       "       [  1.        ,   0.31845373,  -5.20300719, -12.62300487],\n",
       "       [  1.        ,   0.31845373,  -5.20300719, -12.62300487],\n",
       "       [  1.        ,   0.25131443,  -5.20300719, -12.62300487],\n",
       "       [  1.        ,   0.25131443,  -5.20300719, -12.62300487],\n",
       "       [  1.        ,   0.25131443,  -5.20300719, -12.62300487],\n",
       "       [  1.        ,   0.17934093,  -5.20300719, -12.62300487],\n",
       "       [  1.        ,   0.17934093,  -5.20300719, -12.62300487],\n",
       "       [  1.        ,   0.17934093,  -5.20300719, -12.62300487],\n",
       "       [  1.        ,  -0.590075  ,  -6.2146081 , -14.33215629],\n",
       "       [  1.        ,  -0.590075  ,  -6.2146081 , -14.33215629],\n",
       "       [  1.        ,  -0.590075  ,  -6.2146081 , -14.33215629],\n",
       "       [  1.        ,  -0.6429974 ,  -6.2146081 , -14.33215629],\n",
       "       [  1.        ,  -0.6429974 ,  -6.2146081 , -14.33215629],\n",
       "       [  1.        ,  -0.6429974 ,  -6.2146081 , -14.33215629],\n",
       "       [  1.        ,  -0.69887786,  -6.2146081 , -14.33215629],\n",
       "       [  1.        ,  -0.69887786,  -6.2146081 , -14.33215629],\n",
       "       [  1.        ,  -0.69887786,  -6.2146081 , -14.33215629],\n",
       "       [  1.        ,  -0.590075  ,  -6.2146081 , -14.33215629],\n",
       "       [  1.        ,  -0.590075  ,  -6.2146081 , -14.33215629],\n",
       "       [  1.        ,  -0.590075  ,  -6.2146081 , -14.33215629],\n",
       "       [  1.        ,  -0.6429974 ,  -6.2146081 , -14.33215629],\n",
       "       [  1.        ,  -0.6429974 ,  -6.2146081 , -14.33215629],\n",
       "       [  1.        ,  -0.6429974 ,  -6.2146081 , -14.33215629],\n",
       "       [  1.        ,  -0.69887786,  -6.2146081 , -14.33215629],\n",
       "       [  1.        ,  -0.69887786,  -6.2146081 , -14.33215629],\n",
       "       [  1.        ,  -0.69887786,  -6.2146081 , -14.33215629],\n",
       "       [  1.        ,   0.42209751,  -5.20243559, -12.81389754],\n",
       "       [  1.        ,   0.42209751,  -5.20243559, -12.81389754],\n",
       "       [  1.        ,   0.42209751,  -5.20243559, -12.81389754],\n",
       "       [  1.        ,   0.36917511,  -5.20243559, -12.81389754],\n",
       "       [  1.        ,   0.36917511,  -5.20243559, -12.81389754],\n",
       "       [  1.        ,   0.36917511,  -5.20243559, -12.81389754],\n",
       "       [  1.        ,   0.31329465,  -5.20243559, -12.81389754],\n",
       "       [  1.        ,   0.31329465,  -5.20243559, -12.81389754],\n",
       "       [  1.        ,   0.31329465,  -5.20243559, -12.81389754],\n",
       "       [  1.        ,   0.25410578,  -5.20243559, -12.81389754],\n",
       "       [  1.        ,   0.25410578,  -5.20243559, -12.81389754],\n",
       "       [  1.        ,   0.25410578,  -5.20243559, -12.81389754],\n",
       "       [  1.        ,   0.19119195,  -5.20243559, -12.81389754],\n",
       "       [  1.        ,   0.19119195,  -5.20243559, -12.81389754],\n",
       "       [  1.        ,   0.19119195,  -5.20243559, -12.81389754],\n",
       "       [  1.        ,   0.12405265,  -5.20243559, -12.81389754],\n",
       "       [  1.        ,   0.12405265,  -5.20243559, -12.81389754],\n",
       "       [  1.        ,   0.12405265,  -5.20243559, -12.81389754],\n",
       "       [  1.        ,   0.05207915,  -5.20243559, -12.81389754],\n",
       "       [  1.        ,   0.05207915,  -5.20243559, -12.81389754],\n",
       "       [  1.        ,   0.05207915,  -5.20243559, -12.81389754],\n",
       "       [  1.        ,   0.42209751,  -5.20243559, -12.81389754],\n",
       "       [  1.        ,   0.42209751,  -5.20243559, -12.81389754],\n",
       "       [  1.        ,   0.42209751,  -5.20243559, -12.81389754],\n",
       "       [  1.        ,   0.36917511,  -5.20243559, -12.81389754],\n",
       "       [  1.        ,   0.36917511,  -5.20243559, -12.81389754],\n",
       "       [  1.        ,   0.36917511,  -5.20243559, -12.81389754],\n",
       "       [  1.        ,   0.31329465,  -5.20243559, -12.81389754],\n",
       "       [  1.        ,   0.31329465,  -5.20243559, -12.81389754],\n",
       "       [  1.        ,   0.31329465,  -5.20243559, -12.81389754],\n",
       "       [  1.        ,   0.25410578,  -5.20243559, -12.81389754],\n",
       "       [  1.        ,   0.25410578,  -5.20243559, -12.81389754],\n",
       "       [  1.        ,   0.25410578,  -5.20243559, -12.81389754],\n",
       "       [  1.        ,   0.19119195,  -5.20243559, -12.81389754],\n",
       "       [  1.        ,   0.19119195,  -5.20243559, -12.81389754],\n",
       "       [  1.        ,   0.19119195,  -5.20243559, -12.81389754],\n",
       "       [  1.        ,   0.12405265,  -5.20243559, -12.81389754],\n",
       "       [  1.        ,   0.12405265,  -5.20243559, -12.81389754],\n",
       "       [  1.        ,   0.12405265,  -5.20243559, -12.81389754],\n",
       "       [  1.        ,   0.05207915,  -5.20243559, -12.81389754],\n",
       "       [  1.        ,   0.05207915,  -5.20243559, -12.81389754],\n",
       "       [  1.        ,   0.05207915,  -5.20243559, -12.81389754],\n",
       "       [  1.        ,  -0.590075  ,  -6.70656524, -14.33215629],\n",
       "       [  1.        ,  -0.590075  ,  -6.70656524, -14.33215629],\n",
       "       [  1.        ,  -0.590075  ,  -6.70656524, -14.33215629],\n",
       "       [  1.        ,   0.97466274,  -5.1418275 , -11.98504969],\n",
       "       [  1.        ,   0.97466274,  -5.1418275 , -11.98504969],\n",
       "       [  1.        ,   0.97466274,  -5.1418275 , -11.98504969],\n",
       "       [  1.        ,   0.92174034,  -5.1418275 , -11.98504969],\n",
       "       [  1.        ,   0.92174034,  -5.1418275 , -11.98504969],\n",
       "       [  1.        ,   0.92174034,  -5.1418275 , -11.98504969],\n",
       "       [  1.        ,   0.86585988,  -5.1418275 , -11.98504969],\n",
       "       [  1.        ,   0.86585988,  -5.1418275 , -11.98504969],\n",
       "       [  1.        ,   0.86585988,  -5.1418275 , -11.98504969],\n",
       "       [  1.        ,   0.80667101,  -5.1418275 , -11.98504969],\n",
       "       [  1.        ,   0.80667101,  -5.1418275 , -11.98504969],\n",
       "       [  1.        ,   0.80667101,  -5.1418275 , -11.98504969],\n",
       "       [  1.        ,   0.74375718,  -5.1418275 , -11.98504969],\n",
       "       [  1.        ,   0.74375718,  -5.1418275 , -11.98504969],\n",
       "       [  1.        ,   0.74375718,  -5.1418275 , -11.98504969],\n",
       "       [  1.        ,   0.67661788,  -5.1418275 , -11.98504969],\n",
       "       [  1.        ,   0.67661788,  -5.1418275 , -11.98504969],\n",
       "       [  1.        ,   0.67661788,  -5.1418275 , -11.98504969],\n",
       "       [  1.        ,   0.60464438,  -5.1418275 , -11.98504969],\n",
       "       [  1.        ,   0.60464438,  -5.1418275 , -11.98504969],\n",
       "       [  1.        ,   0.60464438,  -5.1418275 , -11.98504969],\n",
       "       [  1.        ,   0.97466274,  -5.1418275 , -11.98504969],\n",
       "       [  1.        ,   0.97466274,  -5.1418275 , -11.98504969],\n",
       "       [  1.        ,   0.92174034,  -5.1418275 , -11.98504969],\n",
       "       [  1.        ,   0.92174034,  -5.1418275 , -11.98504969],\n",
       "       [  1.        ,   0.86585988,  -5.1418275 , -11.98504969],\n",
       "       [  1.        ,   0.86585988,  -5.1418275 , -11.98504969],\n",
       "       [  1.        ,   0.80667101,  -5.1418275 , -11.98504969],\n",
       "       [  1.        ,   0.80667101,  -5.1418275 , -11.98504969],\n",
       "       [  1.        ,   0.74375718,  -5.1418275 , -11.98504969],\n",
       "       [  1.        ,   0.74375718,  -5.1418275 , -11.98504969],\n",
       "       [  1.        ,   0.67661788,  -5.1418275 , -11.98504969],\n",
       "       [  1.        ,   0.67661788,  -5.1418275 , -11.98504969],\n",
       "       [  1.        ,   0.60464438,  -5.1418275 , -11.98504969],\n",
       "       [  1.        ,   0.60464438,  -5.1418275 , -11.98504969],\n",
       "       [  1.        ,   0.60464438,  -5.1418275 , -11.98504969]])"
      ]
     },
     "execution_count": 117,
     "metadata": {},
     "output_type": "execute_result"
    }
   ],
   "source": [
    "import numpy as np\n",
    "\n",
    "# Y is a responce variable\n",
    "Y = flow = data['Flow']\n",
    "\n",
    "# Antag att regression av 'TV' på 'sales' är ungefär linjär\n",
    "# Y ≈ β0 + β1 X\n",
    "# sales = β0 + β1 * 'TV'\n",
    "# Modellspecifikationsmatrisen (designmatrisen) behöver en 1:a i första kolumnen \n",
    "\n",
    "X = np.column_stack([np.ones(Y.shape[0]), data['Kinematic'], data['Geometric'], data['Inertial']])\n",
    "\n",
    "\n",
    "X"
   ]
  },
  {
   "cell_type": "code",
   "execution_count": 118,
   "metadata": {},
   "outputs": [
    {
     "data": {
      "text/plain": [
       "array([-2.55979314,  0.86871519,  3.61041818, -0.75368772])"
      ]
     },
     "execution_count": 118,
     "metadata": {},
     "output_type": "execute_result"
    }
   ],
   "source": [
    "# pseudo-invers för prestanda\n",
    "b = np.linalg.pinv(X.T @ X) @ X.T @ Y\n",
    "b"
   ]
  },
  {
   "cell_type": "code",
   "execution_count": 119,
   "metadata": {},
   "outputs": [
    {
     "data": {
      "text/plain": [
       "np.float64(423.9203080376149)"
      ]
     },
     "execution_count": 119,
     "metadata": {},
     "output_type": "execute_result"
    }
   ],
   "source": [
    "# d - number of features\n",
    "d = len(b) - 1\n",
    "\n",
    "# n - size of the sample\n",
    "n = Y.shape[0]\n",
    "\n",
    "SSE = np.sum(np.square(Y-(X @ b)))\n",
    "\n",
    "var = SSE/(n-d-1)\n",
    "S = np.sqrt(var)\n",
    "\n",
    "Syy = (n*np.sum(np.square(Y)) - np.square(np.sum(Y)))/n\n",
    "\n",
    "SSR = Syy - SSE\n",
    "#SSR = (n*np.sum(b*(X.T @ Y)) - (np.square(np.sum(Y))))/n\n",
    "\n",
    "SSR\n"
   ]
  },
  {
   "cell_type": "code",
   "execution_count": 120,
   "metadata": {},
   "outputs": [
    {
     "data": {
      "text/plain": [
       "<matplotlib.collections.PathCollection at 0x2851e58d0d0>"
      ]
     },
     "execution_count": 120,
     "metadata": {},
     "output_type": "execute_result"
    },
    {
     "data": {
      "image/png": "[encoded data removed]",
      "text/plain": [
       "<Figure size 640x480 with 1 Axes>"
      ]
     },
     "metadata": {},
     "output_type": "display_data"
    }
   ],
   "source": [
    "import matplotlib.pyplot as plt\n",
    "\n",
    "plt.scatter(Y, X @ b)"
   ]
  },
  {
   "cell_type": "code",
   "execution_count": null,
   "metadata": {},
   "outputs": [
    {
     "data": {
      "text/plain": [
       "np.float64(0.997121247321077)"
      ]
     },
     "execution_count": 121,
     "metadata": {},
     "output_type": "execute_result"
    }
   ],
   "source": [
    "Rsq = SSR/Syy\n",
    "\n",
    "Rsq\n",
    "\n",
    "# Chose 90% as confidense level\n"
   ]
  },
  {
   "cell_type": "code",
   "execution_count": null,
   "metadata": {},
   "outputs": [
    {
     "data": {
      "text/plain": [
       "np.float64(7.99851099815816e-141)"
      ]
     },
     "execution_count": 122,
     "metadata": {},
     "output_type": "execute_result"
    }
   ],
   "source": [
    "import scipy.stats as stats\n",
    "\n",
    "# H0: all β = 0\n",
    "sig_statistic = (SSR/d)/S\n",
    "p_significance = stats.f.sf(sig_statistic, d, n-d-1)\n",
    "\n",
    "p_significance\n",
    "\n",
    "# We reject null hypothesis, regresion is significant!"
   ]
  },
  {
   "cell_type": "code",
   "execution_count": null,
   "metadata": {},
   "outputs": [
    {
     "data": {
      "text/plain": [
       "np.float64(1.9192831125684836e-242)"
      ]
     },
     "execution_count": 123,
     "metadata": {},
     "output_type": "execute_result"
    }
   ],
   "source": [
    "c = np.linalg.pinv(X.T@X)*var\n",
    "\n",
    "#H0: b3 is irrelevant, β3 = 0\n",
    "b3_statistic = b[3] / (S*np.sqrt(c[3,3]))\n",
    "p_b3 = 2*min(stats.t.cdf(b3_statistic, n-d-1), stats.t.sf(b3_statistic, n-d-1))\n",
    "\n",
    "p_b3"
   ]
  }
 ],
 "metadata": {
  "kernelspec": {
   "display_name": "Python 3",
   "language": "python",
   "name": "python3"
  },
  "language_info": {
   "codemirror_mode": {
    "name": "ipython",
    "version": 3
   },
   "file_extension": ".py",
   "mimetype": "text/x-python",
   "name": "python",
   "nbconvert_exporter": "python",
   "pygments_lexer": "ipython3",
   "version": "3.12.6"
  }
 },
 "nbformat": 4,
 "nbformat_minor": 2
}
