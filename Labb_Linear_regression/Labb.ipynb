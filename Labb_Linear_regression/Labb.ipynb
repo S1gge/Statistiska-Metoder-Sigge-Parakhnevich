{
 "cells": [
  {
   "cell_type": "code",
   "execution_count": null,
   "metadata": {},
   "outputs": [],
   "source": [
    "import pandas as pd\n",
    "\n",
    "data_path = \"../Labb_Linear_regression/\"\n",
    "\n",
    "data = pd.read_csv(data_path+\"Small-diameter-flow.csv\", index_col=0)\n",
    "data.head()"
   ]
  },
  {
   "cell_type": "code",
   "execution_count": null,
   "metadata": {},
   "outputs": [],
   "source": [
    "import numpy as np\n",
    "\n",
    "# Y is a responce variable\n",
    "Y = flow = data['Flow']\n",
    "\n",
    "# Modellspecifikationsmatrisen (designmatrisen) behöver en 1:a i första kolumnen \n",
    "\n",
    "X = np.column_stack([np.ones(Y.shape[0]), data[['Kinematic', 'Geometric','Inertial']]])\n",
    "\n",
    "X"
   ]
  },
  {
   "cell_type": "code",
   "execution_count": null,
   "metadata": {},
   "outputs": [],
   "source": [
    "# pseudo-invers för prestanda\n",
    "b = np.linalg.pinv(X.T @ X) @ X.T @ Y\n",
    "b"
   ]
  },
  {
   "cell_type": "code",
   "execution_count": null,
   "metadata": {},
   "outputs": [],
   "source": [
    "# d - number of features of the model.\n",
    "d = X.shape[1]-1\n",
    "\n",
    "# n - size of the sample\n",
    "n = Y.shape[0]\n",
    "\n",
    "\n",
    "# A function or method to calculate the variance.\n",
    "SSE = np.sum(np.square(Y-(X @ b)))\n",
    "var = SSE/(n-d-1)\n",
    "\n",
    "# A function or method to calculate the standard deviation.\n",
    "S = np.sqrt(var)\n",
    "\n",
    "# Calculate the total variability\n",
    "Syy = (n*np.sum(np.square(Y)) - np.square(np.sum(Y)))/n\n",
    "\n",
    "# Calculate the sum of squares due to the regression \n",
    "SSR = Syy - SSE\n",
    "#SSR = (n*np.sum(b*(X.T @ Y)) - (np.square(np.sum(Y))))/n\n",
    "\n",
    "print (d)\n",
    "print (n)\n",
    "print (SSE)\n",
    "print (var)\n",
    "print (S)\n",
    "print (Syy)\n",
    "print (SSR)"
   ]
  },
  {
   "cell_type": "code",
   "execution_count": null,
   "metadata": {},
   "outputs": [],
   "source": [
    "import matplotlib.pyplot as plt\n",
    "\n",
    "plt.scatter(Y, X @ b)"
   ]
  },
  {
   "cell_type": "code",
   "execution_count": null,
   "metadata": {},
   "outputs": [],
   "source": [
    "Rsq = SSR/Syy\n",
    "\n",
    "Rsq\n",
    "\n",
    "# Chose 90% as confidense level\n"
   ]
  },
  {
   "cell_type": "code",
   "execution_count": null,
   "metadata": {},
   "outputs": [],
   "source": [
    "import scipy.stats as stats\n",
    "\n",
    "# H0: all β = 0\n",
    "sig_statistic = (SSR/d)/S\n",
    "p_significance = stats.f.sf(sig_statistic, d, n-d-1)\n",
    "\n",
    "p_significance\n",
    "\n",
    "# We reject null hypothesis, regresion is significant!"
   ]
  },
  {
   "cell_type": "code",
   "execution_count": null,
   "metadata": {},
   "outputs": [],
   "source": [
    "c = np.linalg.pinv(X.T@X)*var\n",
    "\n",
    "#H0: b3 is irrelevant, β3 = 0\n",
    "b3_statistic = b[3] / (S*np.sqrt(c[3,3]))\n",
    "p_b3 = 2*min(stats.t.cdf(b3_statistic, n-d-1), stats.t.sf(b3_statistic, n-d-1))\n",
    "\n",
    "p_b3"
   ]
  }
 ],
 "metadata": {
  "kernelspec": {
   "display_name": "Python 3",
   "language": "python",
   "name": "python3"
  },
  "language_info": {
   "codemirror_mode": {
    "name": "ipython",
    "version": 3
   },
   "file_extension": ".py",
   "mimetype": "text/x-python",
   "name": "python",
   "nbconvert_exporter": "python",
   "pygments_lexer": "ipython3",
   "version": "3.12.6"
  }
 },
 "nbformat": 4,
 "nbformat_minor": 2
}
