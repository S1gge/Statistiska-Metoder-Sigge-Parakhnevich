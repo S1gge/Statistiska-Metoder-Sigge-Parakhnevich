{
 "cells": [
  {
   "cell_type": "code",
   "execution_count": 223,
   "metadata": {},
   "outputs": [],
   "source": [
    "import pandas as pd\n",
    "import matplotlib.pyplot as plt\n",
    "import seaborn as sns\n",
    "from Linear_Regression import Linear_Regression"
   ]
  },
  {
   "cell_type": "code",
   "execution_count": 224,
   "metadata": {},
   "outputs": [
    {
     "data": {
      "text/html": [
       "<div>\n",
       "<style scoped>\n",
       "    .dataframe tbody tr th:only-of-type {\n",
       "        vertical-align: middle;\n",
       "    }\n",
       "\n",
       "    .dataframe tbody tr th {\n",
       "        vertical-align: top;\n",
       "    }\n",
       "\n",
       "    .dataframe thead th {\n",
       "        text-align: right;\n",
       "    }\n",
       "</style>\n",
       "<table border=\"1\" class=\"dataframe\">\n",
       "  <thead>\n",
       "    <tr style=\"text-align: right;\">\n",
       "      <th></th>\n",
       "      <th>Flow</th>\n",
       "      <th>Kinematic</th>\n",
       "      <th>Geometric</th>\n",
       "      <th>Inertial</th>\n",
       "      <th>Observer</th>\n",
       "    </tr>\n",
       "  </thead>\n",
       "  <tbody>\n",
       "    <tr>\n",
       "      <th>0</th>\n",
       "      <td>-17.047687</td>\n",
       "      <td>-0.584344</td>\n",
       "      <td>-6.896327</td>\n",
       "      <td>-14.323560</td>\n",
       "      <td>0.0</td>\n",
       "    </tr>\n",
       "    <tr>\n",
       "      <th>1</th>\n",
       "      <td>-17.043179</td>\n",
       "      <td>-0.584344</td>\n",
       "      <td>-6.896327</td>\n",
       "      <td>-14.323560</td>\n",
       "      <td>0.0</td>\n",
       "    </tr>\n",
       "    <tr>\n",
       "      <th>2</th>\n",
       "      <td>-17.043179</td>\n",
       "      <td>-0.584344</td>\n",
       "      <td>-6.896327</td>\n",
       "      <td>-14.323560</td>\n",
       "      <td>0.0</td>\n",
       "    </tr>\n",
       "    <tr>\n",
       "      <th>3</th>\n",
       "      <td>-11.182193</td>\n",
       "      <td>1.242506</td>\n",
       "      <td>-5.069476</td>\n",
       "      <td>-11.583284</td>\n",
       "      <td>0.0</td>\n",
       "    </tr>\n",
       "    <tr>\n",
       "      <th>4</th>\n",
       "      <td>-11.184430</td>\n",
       "      <td>1.242506</td>\n",
       "      <td>-5.069476</td>\n",
       "      <td>-11.583284</td>\n",
       "      <td>0.0</td>\n",
       "    </tr>\n",
       "  </tbody>\n",
       "</table>\n",
       "</div>"
      ],
      "text/plain": [
       "        Flow  Kinematic  Geometric   Inertial  Observer\n",
       "0 -17.047687  -0.584344  -6.896327 -14.323560       0.0\n",
       "1 -17.043179  -0.584344  -6.896327 -14.323560       0.0\n",
       "2 -17.043179  -0.584344  -6.896327 -14.323560       0.0\n",
       "3 -11.182193   1.242506  -5.069476 -11.583284       0.0\n",
       "4 -11.184430   1.242506  -5.069476 -11.583284       0.0"
      ]
     },
     "execution_count": 224,
     "metadata": {},
     "output_type": "execute_result"
    }
   ],
   "source": [
    "data = pd.read_csv(\"Small-diameter-flow.csv\", index_col=0)\n",
    "data.head()"
   ]
  },
  {
   "cell_type": "code",
   "execution_count": 225,
   "metadata": {},
   "outputs": [],
   "source": [
    "l_reg = Linear_Regression((data['Flow']), data[['Kinematic', 'Geometric', 'Inertial', 'Observer']])"
   ]
  },
  {
   "cell_type": "markdown",
   "metadata": {},
   "source": [
    "From the data on the correlation coefficient, one can conclude that there is a strong relationships between parameters, with the exception of the Observer. We are interested in relationships as Flow-Kinematic, Flow-Geometric and Flow-Inertial, but we can also see a strong correlation between other combinations of parameters. The low correlation coefficient for the Observer indicates that there is no realtionships between Observer and other features, which is logical since it is a parameter indicating which of two observers made the measurement."
   ]
  },
  {
   "cell_type": "code",
   "execution_count": 226,
   "metadata": {},
   "outputs": [
    {
     "data": {
      "text/html": [
       "<div>\n",
       "<style scoped>\n",
       "    .dataframe tbody tr th:only-of-type {\n",
       "        vertical-align: middle;\n",
       "    }\n",
       "\n",
       "    .dataframe tbody tr th {\n",
       "        vertical-align: top;\n",
       "    }\n",
       "\n",
       "    .dataframe thead th {\n",
       "        text-align: right;\n",
       "    }\n",
       "</style>\n",
       "<table border=\"1\" class=\"dataframe\">\n",
       "  <thead>\n",
       "    <tr style=\"text-align: right;\">\n",
       "      <th></th>\n",
       "      <th>Flow</th>\n",
       "      <th>Kinematic</th>\n",
       "      <th>Geometric</th>\n",
       "      <th>Inertial</th>\n",
       "      <th>Observer</th>\n",
       "    </tr>\n",
       "  </thead>\n",
       "  <tbody>\n",
       "    <tr>\n",
       "      <th>Flow</th>\n",
       "      <td>1.000000</td>\n",
       "      <td>0.863403</td>\n",
       "      <td>0.995794</td>\n",
       "      <td>0.903310</td>\n",
       "      <td>0.181490</td>\n",
       "    </tr>\n",
       "    <tr>\n",
       "      <th>Kinematic</th>\n",
       "      <td>0.863403</td>\n",
       "      <td>1.000000</td>\n",
       "      <td>0.863135</td>\n",
       "      <td>0.968671</td>\n",
       "      <td>0.103227</td>\n",
       "    </tr>\n",
       "    <tr>\n",
       "      <th>Geometric</th>\n",
       "      <td>0.995794</td>\n",
       "      <td>0.863135</td>\n",
       "      <td>1.000000</td>\n",
       "      <td>0.918330</td>\n",
       "      <td>0.175199</td>\n",
       "    </tr>\n",
       "    <tr>\n",
       "      <th>Inertial</th>\n",
       "      <td>0.903310</td>\n",
       "      <td>0.968671</td>\n",
       "      <td>0.918330</td>\n",
       "      <td>1.000000</td>\n",
       "      <td>0.121981</td>\n",
       "    </tr>\n",
       "    <tr>\n",
       "      <th>Observer</th>\n",
       "      <td>0.181490</td>\n",
       "      <td>0.103227</td>\n",
       "      <td>0.175199</td>\n",
       "      <td>0.121981</td>\n",
       "      <td>1.000000</td>\n",
       "    </tr>\n",
       "  </tbody>\n",
       "</table>\n",
       "</div>"
      ],
      "text/plain": [
       "               Flow  Kinematic  Geometric  Inertial  Observer\n",
       "Flow       1.000000   0.863403   0.995794  0.903310  0.181490\n",
       "Kinematic  0.863403   1.000000   0.863135  0.968671  0.103227\n",
       "Geometric  0.995794   0.863135   1.000000  0.918330  0.175199\n",
       "Inertial   0.903310   0.968671   0.918330  1.000000  0.121981\n",
       "Observer   0.181490   0.103227   0.175199  0.121981  1.000000"
      ]
     },
     "execution_count": 226,
     "metadata": {},
     "output_type": "execute_result"
    }
   ],
   "source": [
    "data.corr()"
   ]
  },
  {
   "cell_type": "markdown",
   "metadata": {},
   "source": [
    "Scatter plots are used to observe and show relationships between parameters. "
   ]
  },
  {
   "cell_type": "code",
   "execution_count": 227,
   "metadata": {},
   "outputs": [
    {
     "data": {
      "image/png": "[encoded data removed]",
      "text/plain": [
       "<Figure size 1500x300 with 4 Axes>"
      ]
     },
     "metadata": {},
     "output_type": "display_data"
    }
   ],
   "source": [
    "fig, ax = plt.subplots(1, l_reg.d, dpi=150, figsize=(10,2))\n",
    "\n",
    "for i, feature in enumerate(data.columns[1:]):\n",
    "    sns.scatterplot(data=data, x = feature, y = 'Flow', ax=ax[i])\n",
    "\n",
    "fig.tight_layout()"
   ]
  },
  {
   "cell_type": "code",
   "execution_count": 228,
   "metadata": {},
   "outputs": [
    {
     "name": "stdout",
     "output_type": "stream",
     "text": [
      "The number of features of the model: 4\n",
      "The size of the sample: 198\n",
      "The variance: 0.0063\n",
      "The standard deviation: 0.0792\n",
      "The significance of the regression:\n",
      "The relevance of the regression: 0.9972\n"
     ]
    }
   ],
   "source": [
    "print(f\"The number of features of the model: {l_reg.d}\")\n",
    "print(f\"The size of the sample: {l_reg.n}\")\n",
    "print(f\"The variance: {l_reg.var:.4f}\")\n",
    "print(f\"The standard deviation: {l_reg.st_dev:.4f}\")\n",
    "print(f\"The significance of the regression:\")\n",
    "print(f\"The relevance of the regression: {l_reg.Rsq:.4f}\")"
   ]
  }
 ],
 "metadata": {
  "kernelspec": {
   "display_name": "Python 3",
   "language": "python",
   "name": "python3"
  },
  "language_info": {
   "codemirror_mode": {
    "name": "ipython",
    "version": 3
   },
   "file_extension": ".py",
   "mimetype": "text/x-python",
   "name": "python",
   "nbconvert_exporter": "python",
   "pygments_lexer": "ipython3",
   "version": "3.12.6"
  }
 },
 "nbformat": 4,
 "nbformat_minor": 2
}
