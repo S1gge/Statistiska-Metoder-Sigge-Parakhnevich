{
 "cells": [
  {
   "cell_type": "code",
   "execution_count": 25,
   "metadata": {},
   "outputs": [],
   "source": [
    "from Linear_Regression import Linear_Regression\n",
    "import pandas as pd"
   ]
  },
  {
   "cell_type": "code",
   "execution_count": 26,
   "metadata": {},
   "outputs": [
    {
     "data": {
      "text/html": [
       "<div>\n",
       "<style scoped>\n",
       "    .dataframe tbody tr th:only-of-type {\n",
       "        vertical-align: middle;\n",
       "    }\n",
       "\n",
       "    .dataframe tbody tr th {\n",
       "        vertical-align: top;\n",
       "    }\n",
       "\n",
       "    .dataframe thead th {\n",
       "        text-align: right;\n",
       "    }\n",
       "</style>\n",
       "<table border=\"1\" class=\"dataframe\">\n",
       "  <thead>\n",
       "    <tr style=\"text-align: right;\">\n",
       "      <th></th>\n",
       "      <th>Flow</th>\n",
       "      <th>Kinematic</th>\n",
       "      <th>Geometric</th>\n",
       "      <th>Inertial</th>\n",
       "      <th>Observer</th>\n",
       "    </tr>\n",
       "  </thead>\n",
       "  <tbody>\n",
       "    <tr>\n",
       "      <th>0</th>\n",
       "      <td>-17.047687</td>\n",
       "      <td>-0.584344</td>\n",
       "      <td>-6.896327</td>\n",
       "      <td>-14.323560</td>\n",
       "      <td>0.0</td>\n",
       "    </tr>\n",
       "    <tr>\n",
       "      <th>1</th>\n",
       "      <td>-17.043179</td>\n",
       "      <td>-0.584344</td>\n",
       "      <td>-6.896327</td>\n",
       "      <td>-14.323560</td>\n",
       "      <td>0.0</td>\n",
       "    </tr>\n",
       "    <tr>\n",
       "      <th>2</th>\n",
       "      <td>-17.043179</td>\n",
       "      <td>-0.584344</td>\n",
       "      <td>-6.896327</td>\n",
       "      <td>-14.323560</td>\n",
       "      <td>0.0</td>\n",
       "    </tr>\n",
       "    <tr>\n",
       "      <th>3</th>\n",
       "      <td>-11.182193</td>\n",
       "      <td>1.242506</td>\n",
       "      <td>-5.069476</td>\n",
       "      <td>-11.583284</td>\n",
       "      <td>0.0</td>\n",
       "    </tr>\n",
       "    <tr>\n",
       "      <th>4</th>\n",
       "      <td>-11.184430</td>\n",
       "      <td>1.242506</td>\n",
       "      <td>-5.069476</td>\n",
       "      <td>-11.583284</td>\n",
       "      <td>0.0</td>\n",
       "    </tr>\n",
       "  </tbody>\n",
       "</table>\n",
       "</div>"
      ],
      "text/plain": [
       "        Flow  Kinematic  Geometric   Inertial  Observer\n",
       "0 -17.047687  -0.584344  -6.896327 -14.323560       0.0\n",
       "1 -17.043179  -0.584344  -6.896327 -14.323560       0.0\n",
       "2 -17.043179  -0.584344  -6.896327 -14.323560       0.0\n",
       "3 -11.182193   1.242506  -5.069476 -11.583284       0.0\n",
       "4 -11.184430   1.242506  -5.069476 -11.583284       0.0"
      ]
     },
     "execution_count": 26,
     "metadata": {},
     "output_type": "execute_result"
    }
   ],
   "source": [
    "data = pd.read_csv(\"Small-diameter-flow.csv\", index_col=0)\n",
    "data.head()"
   ]
  },
  {
   "cell_type": "code",
   "execution_count": 27,
   "metadata": {},
   "outputs": [],
   "source": [
    "l_reg = Linear_Regression((data['Flow']), data[['Kinematic', 'Geometric', 'Inertial', 'Observer']])"
   ]
  },
  {
   "cell_type": "code",
   "execution_count": 28,
   "metadata": {},
   "outputs": [
    {
     "name": "stdout",
     "output_type": "stream",
     "text": [
      "The number of features of the model: 4\n",
      "The size of the sample: 198\n",
      "The variance: 0.0063\n",
      "The standard deviation: 0.0792\n",
      "The significance of the regression:\n",
      "The relevance of the regression: 0.9972\n"
     ]
    }
   ],
   "source": [
    "print(f\"The number of features of the model: {l_reg.d}\")\n",
    "print(f\"The size of the sample: {l_reg.n}\")\n",
    "print(f\"The variance: {l_reg.var:.4f}\")\n",
    "print(f\"The standard deviation: {l_reg.st_dev:.4f}\")\n",
    "print (f\"The significance of the regression:\")\n",
    "print (f\"The relevance of the regression: {l_reg.Rsq:.4f}\")"
   ]
  }
 ],
 "metadata": {
  "kernelspec": {
   "display_name": "Python 3",
   "language": "python",
   "name": "python3"
  },
  "language_info": {
   "codemirror_mode": {
    "name": "ipython",
    "version": 3
   },
   "file_extension": ".py",
   "mimetype": "text/x-python",
   "name": "python",
   "nbconvert_exporter": "python",
   "pygments_lexer": "ipython3",
   "version": "3.12.6"
  }
 },
 "nbformat": 4,
 "nbformat_minor": 2
}
